{
 "cells": [
  {
   "cell_type": "code",
   "execution_count": 1,
   "id": "001817fc",
   "metadata": {},
   "outputs": [],
   "source": [
    "import numpy as np\n",
    "from sklearn.model_selection import train_test_split\n",
    "from sklearn.linear_model import LinearRegression\n",
    "from sklearn.metrics import mean_absolute_error, mean_squared_error, r2_score\n",
    "\n",
    "np.random.seed(123)\n",
    "\n",
    "# generate a dataset with 1000 data points with 3 features\n",
    "X = np.random.rand(1000, 3)\n",
    "\n",
    "true_coef = [1.5, 0.3, -2]\n",
    "\n",
    "# generate the target variable using true coefficients and some noises\n",
    "y = np.dot(X, true_coef) + np.random.rand(1000) * 0.3\n",
    "\n",
    "# Split the dataset into train/test\n",
    "X_train, X_test, y_train, y_test = train_test_split(X, y, test_size=0.2, random_state=123)"
   ]
  },
  {
   "cell_type": "code",
   "execution_count": 2,
   "id": "f257aabf",
   "metadata": {},
   "outputs": [
    {
     "name": "stdout",
     "output_type": "stream",
     "text": [
      "0.16561220841734858 [ 1.49074522  0.28559799 -1.99985434]\n",
      "0.07693201532523412 0.08929780241270426 0.9849700506493474\n"
     ]
    }
   ],
   "source": [
    "model = LinearRegression()\n",
    "model.fit(X_train, y_train)\n",
    "\n",
    "print(model.intercept_, model.coef_)\n",
    "\n",
    "y_pred = model.predict(X_test)\n",
    "mae = mean_absolute_error(y_test, y_pred)\n",
    "rmse = np.sqrt(mean_squared_error(y_test, y_pred))\n",
    "r2_val = r2_score(y_test, y_pred)\n",
    "print(mae, rmse, r2_val)"
   ]
  }
 ],
 "metadata": {
  "kernelspec": {
   "display_name": "Python 3 (ipykernel)",
   "language": "python",
   "name": "python3"
  },
  "language_info": {
   "codemirror_mode": {
    "name": "ipython",
    "version": 3
   },
   "file_extension": ".py",
   "mimetype": "text/x-python",
   "name": "python",
   "nbconvert_exporter": "python",
   "pygments_lexer": "ipython3",
   "version": "3.8.16"
  }
 },
 "nbformat": 4,
 "nbformat_minor": 5
}
